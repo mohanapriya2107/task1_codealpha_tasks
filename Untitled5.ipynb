{
  "nbformat": 4,
  "nbformat_minor": 0,
  "metadata": {
    "colab": {
      "provenance": [],
      "toc_visible": true,
      "authorship_tag": "ABX9TyNoHZCULCY2JAVQFz7BUcbr",
      "include_colab_link": true
    },
    "kernelspec": {
      "name": "python3",
      "display_name": "Python 3"
    },
    "language_info": {
      "name": "python"
    }
  },
  "cells": [
    {
      "cell_type": "markdown",
      "metadata": {
        "id": "view-in-github",
        "colab_type": "text"
      },
      "source": [
        "<a href=\"https://colab.research.google.com/github/mohanapriya2107/assignment/blob/main/Untitled5.ipynb\" target=\"_parent\"><img src=\"https://colab.research.google.com/assets/colab-badge.svg\" alt=\"Open In Colab\"/></a>"
      ]
    },
    {
      "cell_type": "code",
      "execution_count": 23,
      "metadata": {
        "colab": {
          "base_uri": "https://localhost:8080/"
        },
        "id": "ux2oBLnQn_eY",
        "outputId": "cd30be89-1c17-4339-a1c8-535d4556dd99"
      },
      "outputs": [
        {
          "output_type": "stream",
          "name": "stdout",
          "text": [
            "Index(['song_song1', 'song_song2', 'song_song3', 'hour_of_day', 'day_of_week',\n",
            "       'song_song5', 'song_song6', 'song_song4'],\n",
            "      dtype='object')\n",
            "Model Accuracy: 0.6666666666666666\n"
          ]
        }
      ],
      "source": [
        "import pandas as pd\n",
        "from sklearn.model_selection import train_test_split\n",
        "from sklearn.ensemble import RandomForestClassifier\n",
        "from sklearn.metrics import accuracy_score\n",
        "from datetime import datetime\n",
        "\n",
        "# Load Dataset\n",
        "data = pd.read_csv('spotify.csv')\n",
        "\n",
        "# Feature Engineering\n",
        "X = pd.get_dummies(data['song_id'], prefix='song')\n",
        "\n",
        "data['timestamp'] = pd.to_datetime(data['timestamp'])\n",
        "X['hour_of_day'] = data['timestamp'].dt.hour\n",
        "X['day_of_week'] = data['timestamp'].dt.dayofweek\n",
        "\n",
        "y = data['repeated_play']\n",
        "\n",
        "# Split data into training and testing sets\n",
        "X_train, X_test, y_train, y_test = train_test_split(X, y, test_size=0.2, random_state=42)\n",
        "\n",
        "# Train a RandomForestClassifier\n",
        "model = RandomForestClassifier(n_estimators=100, random_state=42)\n",
        "model.fit(X_train, y_train)\n",
        "\n",
        "new_user_song_history = pd.DataFrame({'song_id': ['song1', 'song2', 'song3'],\n",
        "                                      'timestamp': ['2024-04-27 10:00:00', '2024-04-25 15:30:00', '2024-04-20 08:45:00']})\n",
        "new_user_encoded = pd.get_dummies(new_user_song_history['song_id'], prefix='song')\n",
        "\n",
        "new_user_song_history['timestamp'] = pd.to_datetime(new_user_song_history['timestamp'])  # Convert timestamp to datetime object\n",
        "new_user_encoded['hour_of_day'] = new_user_song_history['timestamp'].dt.hour\n",
        "new_user_encoded['day_of_week'] = new_user_song_history['timestamp'].dt.dayofweek\n",
        "\n",
        "# Find the missing feature names\n",
        "missing_features = set(X_train.columns) - set(new_user_encoded.columns)\n",
        "\n",
        "# Add the missing features with zero values\n",
        "for feature in missing_features:\n",
        "    new_user_encoded[feature] = 0\n",
        "\n",
        "# Check the updated feature names\n",
        "print(new_user_encoded.columns)\n",
        "\n",
        "# Evaluate the model performance (accuracy)\n",
        "y_pred = model.predict(X_test)\n",
        "accuracy = accuracy_score(y_test, y_pred)\n",
        "print(\"Model Accuracy:\", accuracy)"
      ]
    },
    {
      "cell_type": "markdown",
      "source": [
        "# New Section"
      ],
      "metadata": {
        "id": "ZFlr-QUVoH8R"
      }
    }
  ]
}